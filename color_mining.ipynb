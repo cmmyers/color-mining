{
 "cells": [
  {
   "cell_type": "code",
   "execution_count": 1,
   "metadata": {},
   "outputs": [],
   "source": [
    "import cv2\n",
    "import matplotlib.pyplot as plt\n",
    "import numpy as np\n",
    "import os\n",
    "import random\n",
    "import requests\n",
    "import re\n",
    "from sklearn.cluster import KMeans\n"
   ]
  },
  {
   "cell_type": "code",
   "execution_count": 2,
   "metadata": {},
   "outputs": [],
   "source": [
    "BASE_URL = '''http://www.vogue.com/fashion-shows/{}-{}/{}#collection'''\n",
    "REGEX_BASE = '''http:\\/\\/assets.vogue.com\\/photos\\/[a-f0-9]*\\/master\\/pass\\/'''\n",
    "\n",
    "class CollectionDownloader(object):\n",
    "    '''\n",
    "    Class to download all images from a single runway show on vogue.com\n",
    "    '''\n",
    "\n",
    "    def __init__(self, designer, season, year):\n",
    "        self.designer = '-'.join(designer.split()).lower()\n",
    "        self.season = season.lower()\n",
    "        self.year = str(year)\n",
    "        self.two_digit_year = str(year)[-2:]\n",
    "        print \"connecting to site\"\n",
    "        self.response = self.get_response()\n",
    "        self.storage_path = '../data/{}-{}-{}'.format( \\\n",
    "                                              self.designer,\n",
    "                                              self.two_digit_year,\n",
    "                                              self.season\n",
    "                                             )\n",
    "        \n",
    "        self.image_urls = set(re.findall(self.build_regex(), self.response))\n",
    "        \n",
    "        print \"downloading images\"\n",
    "        self.image_folder = self.save_images()\n",
    "\n",
    "\n",
    "    def get_response(self):\n",
    "        '''\n",
    "        collect html from collection landing page\n",
    "        '''\n",
    "        self.landing_url = BASE_URL.format( \\\n",
    "                                            self.season, \n",
    "                                            self.year, \n",
    "                                            self.designer\n",
    "                                          )\n",
    "                                        \n",
    "        return requests.get(self.landing_url).text\n",
    "    \n",
    "    \n",
    "    \n",
    "    def build_regex(self):    \n",
    "        '''\n",
    "        format regex to search for image assets\n",
    "        '''\n",
    "        \n",
    "        return '''http:\\/\\/assets.vogue.com\\/photos\\/[a-f0-9]*\\/master\\/pass\\/''' + \\\n",
    "                '[0-9]{1,3}-[a-z-]+?-[0-9]{0,2}' + self.two_digit_year + '.jpg'\n",
    "                \n",
    "    \n",
    "       \n",
    "    def save_images(self):\n",
    "        if not os.path.exists(self.storage_path):\n",
    "            os.makedirs(self.storage_path)\n",
    "        for i, url in enumerate(self.image_urls):\n",
    "            image_data = requests.get(url).content\n",
    "            file_name = '/{}-{}-{}-{}.jpg'.format( \\\n",
    "                                                 str(i).zfill(3), \n",
    "                                                 self.designer,\n",
    "                                                 self.season,\n",
    "                                                 self.two_digit_year\n",
    "                                                )\n",
    "            with open('{}{}'.format(self.storage_path, file_name), \"w+\") as f:\n",
    "                print \"Gather image \", i\n",
    "                f.write(image_data)\n",
    "                f.close()                                \n",
    "\n",
    "                "
   ]
  },
  {
   "cell_type": "code",
   "execution_count": 3,
   "metadata": {},
   "outputs": [
    {
     "name": "stdout",
     "output_type": "stream",
     "text": [
      "connecting to site\n",
      "downloading images\n",
      "Gather image  0\n",
      "Gather image  1\n",
      "Gather image  2\n",
      "Gather image  3\n",
      "Gather image  4\n",
      "Gather image  5\n",
      "Gather image  6\n",
      "Gather image  7\n",
      "Gather image  8\n",
      "Gather image  9\n",
      "Gather image  10\n",
      "Gather image  11\n",
      "Gather image  12\n",
      "Gather image  13\n",
      "Gather image  14\n",
      "Gather image  15\n",
      "Gather image  16\n",
      "Gather image  17\n",
      "Gather image  18\n",
      "Gather image  19\n",
      "Gather image  20\n"
     ]
    }
   ],
   "source": [
    "lemlem17 = CollectionDownloader(\"lemlem\", \"resort\", 2017)"
   ]
  },
  {
   "cell_type": "code",
   "execution_count": 4,
   "metadata": {},
   "outputs": [
    {
     "name": "stdout",
     "output_type": "stream",
     "text": [
      "connecting to site\n",
      "downloading images\n",
      "Gather image  0\n",
      "Gather image  1\n",
      "Gather image  2\n",
      "Gather image  3\n",
      "Gather image  4\n",
      "Gather image  5\n",
      "Gather image  6\n",
      "Gather image  7\n",
      "Gather image  8\n",
      "Gather image  9\n",
      "Gather image  10\n",
      "Gather image  11\n",
      "Gather image  12\n",
      "Gather image  13\n",
      "Gather image  14\n",
      "Gather image  15\n",
      "Gather image  16\n",
      "Gather image  17\n",
      "Gather image  18\n",
      "Gather image  19\n",
      "Gather image  20\n",
      "Gather image  21\n",
      "Gather image  22\n",
      "Gather image  23\n"
     ]
    }
   ],
   "source": [
    "lemlem18 = CollectionDownloader(\"lemlem\", \"resort\", 2018)"
   ]
  },
  {
   "cell_type": "code",
   "execution_count": 5,
   "metadata": {
    "collapsed": true
   },
   "outputs": [],
   "source": [
    "def kmeans_palette_combined(folder, n_colors, sample_size = 5000, seed = 17):\n",
    "    kmeans_collection = []\n",
    "    print \"processing images\"\n",
    "    for f in os.listdir(folder):\n",
    "        \n",
    "        if f.endswith('jpg'):\n",
    "            kmeans_palette = kmeans_palette_one_image(n_colors, '{}/{}'.format(folder, f))\n",
    "            kmeans_collection.append(kmeans_palette)\n",
    "    collected_colors = [model.cluster_centers_ for model in kmeans_collection]\n",
    "    colors_flat = [item for l in collected_colors for item in l]\n",
    "        \n",
    "    return KMeans(n_clusters=n_colors/2, random_state=seed).fit(colors_flat)     \n",
    "            \n",
    "            \n",
    "def kmeans_palette_one_image(n_colors, image_path, sample_size = 5000, seed = 17):\n",
    "    '''\n",
    "    image passed as a path to jpg. untested with other file formats.\n",
    "    '''\n",
    "    im = plt.imread(image_path)\n",
    "    im = np.array(im, dtype=np.float64) / 255\n",
    "    \n",
    "    w, h, colors = im.shape\n",
    "    image_flat = np.reshape(im, (w * h, colors))\n",
    "        \n",
    "    if len(image_path) > sample_size:\n",
    "        sample_size = len(image_path)\n",
    "        \n",
    "    random.seed(seed)\n",
    "    sample = random.sample(image_flat, sample_size)\n",
    "\n",
    "    return KMeans(n_clusters=n_colors, random_state=seed).fit(sample)\n",
    "       "
   ]
  },
  {
   "cell_type": "code",
   "execution_count": 6,
   "metadata": {
    "collapsed": true
   },
   "outputs": [],
   "source": [
    "def make_palette_uniform_width(colors, title, figsize=(8,4)):\n",
    "    plt.figure(figsize=figsize)\n",
    "    start = 0\n",
    "    cur = start\n",
    "    w = 1./len(colors)\n",
    "    for c in colors:        \n",
    "        plt.axvspan(cur, cur+w, color=c)\n",
    "        cur += w\n",
    "    plt.title(title)\n",
    "    plt.axis([0, 1, 0, 1])\n",
    "    plt.axis('off')\n",
    "    plt.show()\n",
    "    \n",
    "    \n",
    "    "
   ]
  },
  {
   "cell_type": "code",
   "execution_count": 7,
   "metadata": {},
   "outputs": [
    {
     "name": "stdout",
     "output_type": "stream",
     "text": [
      "processing images\n"
     ]
    },
    {
     "data": {
      "image/png": "[encoded data removed]",
      "text/plain": [
       "<matplotlib.figure.Figure at 0x1117311d0>"
      ]
     },
     "metadata": {},
     "output_type": "display_data"
    }
   ],
   "source": [
    "ll_17_full_palette = kmeans_palette_combined(lemlem17.storage_path, 128).cluster_centers_\n",
    "make_palette_uniform_width(ll_17_full_palette, \"LemLem Resort 17 Full Palette\")"
   ]
  },
  {
   "cell_type": "code",
   "execution_count": 8,
   "metadata": {},
   "outputs": [
    {
     "name": "stdout",
     "output_type": "stream",
     "text": [
      "processing images\n"
     ]
    },
    {
     "data": {
      "image/png": "[encoded data removed]",
      "text/plain": [
       "<matplotlib.figure.Figure at 0x1060ebdd0>"
      ]
     },
     "metadata": {},
     "output_type": "display_data"
    }
   ],
   "source": [
    "ll_18_full_palette = kmeans_palette_combined(lemlem18.storage_path, 128).cluster_centers_\n",
    "make_palette_uniform_width(ll_18_full_palette, \"LemLem Resort 18 Full Palette\")"
   ]
  },
  {
   "cell_type": "code",
   "execution_count": 9,
   "metadata": {},
   "outputs": [],
   "source": [
    "def show_images_with_lines(path):\n",
    "    '''\n",
    "    this is just to demonstrate that these four point are a reasonable approximation of the background\n",
    "    in images with a one- or two-part background'''\n",
    "\n",
    "    for f in os.listdir(path)[:5]:\n",
    "        if f.endswith('jpg'):\n",
    "            im = plt.imread(path + f)\n",
    "            h, w, c = im.shape\n",
    "            plt.axhline(h/8)\n",
    "            plt.axhline(7*h/8)\n",
    "            plt.axvline(w/8)\n",
    "            plt.axvline(7*w/8)\n",
    "            plt.axvline(w/2)\n",
    "            plt.imshow(im)\n",
    "            plt.show()\n",
    "            \n",
    "    \n",
    "    "
   ]
  },
  {
   "cell_type": "code",
   "execution_count": 10,
   "metadata": {
    "collapsed": true
   },
   "outputs": [],
   "source": [
    "def find_background_palette(path, num_images_to_check = 4):\n",
    "    background_colors = []\n",
    "    for f in random.sample(os.listdir(path), num_images_to_check):\n",
    "        if f.endswith('jpg'):\n",
    "            im = plt.imread('{}/{}'.format(path, f))\n",
    "            im = np.array(im, dtype=np.float64) / 255\n",
    "            h, w, colors = im.shape\n",
    "            #locate points at 1/8 of height and width away from border of image - top & bottom, left & right\n",
    "            corners = [(h/8, w/8), (h/8, 7*w/8), (7*h/8, w/8), (7*h/8, 7*w/8)]\n",
    "            for row, col in corners:\n",
    "                color_block = im[row-4:row+4, col-4:col+4]\n",
    "                ave_color = [avg_each_color(color_block, color) for color in ['r', 'g', 'b']]\n",
    "                background_colors.append(ave_color)\n",
    "\n",
    "    return background_colors\n",
    "\n",
    "\n",
    "def avg_each_color(color_block, color):\n",
    "    color_dict = {'r':0, 'g':1, 'b':2}\n",
    "    index = color_dict[color]\n",
    "    all_colors = [color[index] for row in color_block for color in row]\n",
    "    ave_color = sum(all_colors)/len(all_colors)\n",
    "    return ave_color\n",
    "\n",
    "def check_swatch(color):\n",
    "    print color\n",
    "    plt.figure(figsize=(2,1))\n",
    "    plt.axvspan(.0, 1, color=color)\n",
    "    plt.axis([0, 1, 0, 1])\n",
    "    plt.show()"
   ]
  },
  {
   "cell_type": "code",
   "execution_count": 11,
   "metadata": {},
   "outputs": [
    {
     "data": {
      "image/png": "[encoded data removed]",
      "text/plain": [
       "<matplotlib.figure.Figure at 0x1117312d0>"
      ]
     },
     "metadata": {},
     "output_type": "display_data"
    }
   ],
   "source": [
    "ll_17_bg_palette = find_background_palette(lemlem17.storage_path)\n",
    "make_palette_uniform_width(ll_17_bg_palette, \"LemLem Resort 17 Background Palette\")"
   ]
  },
  {
   "cell_type": "code",
   "execution_count": 12,
   "metadata": {},
   "outputs": [
    {
     "data": {
      "image/png": "[encoded data removed]",
      "text/plain": [
       "<matplotlib.figure.Figure at 0x112351490>"
      ]
     },
     "metadata": {},
     "output_type": "display_data"
    }
   ],
   "source": [
    "ll_18_bg_palette = find_background_palette(lemlem18.storage_path)\n",
    "make_palette_uniform_width(ll_18_bg_palette, \"LemLem Resort 18 Background Palette\")"
   ]
  },
  {
   "cell_type": "code",
   "execution_count": 29,
   "metadata": {
    "collapsed": true
   },
   "outputs": [],
   "source": [
    "def find_skin_palette(path_to_image_dir, path_to_open_cv, num_images_to_check=8, num_points_to_check=4): \n",
    "    face_colors = []\n",
    "    for f in random.sample(os.listdir(path_to_image_dir), num_images_to_check):\n",
    "        if f.endswith('jpg'):\n",
    "            face = find_face('{}/{}'.format(path_to_image_dir, f), path_to_open_cv)\n",
    "            if face is not None:\n",
    "\n",
    "                h, w, colors = face.shape\n",
    "                face = np.array(face, dtype=np.float64) / 255\n",
    "                for _ in range(num_points_to_check):\n",
    "                    col = np.random.randint(8,w-8)\n",
    "                    row = np.random.randint(8,h-8)\n",
    "                    color_block = face[row-4:row+4, col-4:col+4]\n",
    "\n",
    "                    ave_color = [avg_each_color(color_block, color) for color in ['r', 'g', 'b']]\n",
    "                    face_colors.append(ave_color)\n",
    "\n",
    "    return face_colors\n",
    "\n",
    "def find_face(img_file, path_to_opencv):\n",
    "    '''\n",
    "    uses OpenCV's face recognition tool to draw conclusions re: skin colors of models\n",
    "    '''\n",
    "    path = path_to_opencv + 'data/haarcascades/haarcascade_frontalface_default.xml'\n",
    "\n",
    "    cascade = cv2.CascadeClassifier(path)\n",
    "\n",
    "                              \n",
    "    im = cv2.imread(img_file)\n",
    "    im_rgb = cv2.cvtColor(im, cv2.COLOR_BGR2RGB)\n",
    "    im_gray = cv2.cvtColor(im_rgb, cv2.COLOR_BGR2GRAY)\n",
    "    w, h = im_gray.shape\n",
    "    min_size = (w/20, h/20)\n",
    "    \n",
    "    face = cascade.detectMultiScale(im_gray, 1.1, 5, minSize=min_size)\n",
    "    \n",
    "    if len(face) == 0:\n",
    "            color_block = None\n",
    "    else:\n",
    "        for (x,y,w,h) in face:\n",
    "            color_block = im_rgb[y:y+h, x:x+w]\n",
    "\n",
    "    return color_block"
   ]
  },
  {
   "cell_type": "code",
   "execution_count": 30,
   "metadata": {
    "collapsed": true
   },
   "outputs": [],
   "source": [
    "path_to_opencv = ''\n"
   ]
  },
  {
   "cell_type": "code",
   "execution_count": 31,
   "metadata": {},
   "outputs": [
    {
     "data": {
      "image/png": "[encoded data removed]",
      "text/plain": [
       "<matplotlib.figure.Figure at 0x112ae0590>"
      ]
     },
     "metadata": {},
     "output_type": "display_data"
    }
   ],
   "source": [
    "ll_17_skin_palette = find_skin_palette(lemlem17.storage_path, path_to_opencv)\n",
    "make_palette_uniform_width(ll_17_skin_palette, \"LemLem Resort 17 Skin Palette\")"
   ]
  },
  {
   "cell_type": "code",
   "execution_count": 33,
   "metadata": {},
   "outputs": [
    {
     "data": {
      "image/png": "[encoded data removed]",
      "text/plain": [
       "<matplotlib.figure.Figure at 0x112c62dd0>"
      ]
     },
     "metadata": {},
     "output_type": "display_data"
    }
   ],
   "source": [
    "ll_18_skin_palette = find_skin_palette(lemlem18.storage_path, path_to_opencv)\n",
    "make_palette_uniform_width(ll_18_skin_palette, \"LemLem Resort 18 Skin Palette\")"
   ]
  },
  {
   "cell_type": "code",
   "execution_count": 34,
   "metadata": {},
   "outputs": [],
   "source": [
    "def remove_colors_from_palette(full_palette, background_palette, thresh = 0.1):\n",
    "    all_remove = []\n",
    "    color_series = full_palette\n",
    "    for color in background_palette:\n",
    "        color_series = find_within_threshold(color, color_series, thresh)      \n",
    "    return color_series\n",
    "\n",
    "\n",
    "    \n",
    "def find_within_threshold(anchor_color, color_series, thresh = 0.1):\n",
    "    to_remove = []\n",
    "    for i, color in enumerate(color_series):\n",
    "        #print color\n",
    "        if np.allclose(anchor_color, color, thresh):\n",
    "            temp = np.concatenate((color_series[:i],(color_series[i+1:])))\n",
    "            color_series = temp\n",
    "            continue\n",
    "    return color_series\n"
   ]
  },
  {
   "cell_type": "code",
   "execution_count": 35,
   "metadata": {
    "collapsed": true
   },
   "outputs": [],
   "source": [
    "def get_garment_palette(full_pal, bg_pal, sk_pal, bg_thresh = 0.01, sk_thresh = 0.15):\n",
    "    temp1 = remove_colors_from_palette(full_pal, bg_pal, bg_thresh)\n",
    "    garm_pal = remove_colors_from_palette(temp1, sk_pal, sk_thresh)\n",
    "    return garm_pal"
   ]
  },
  {
   "cell_type": "code",
   "execution_count": 36,
   "metadata": {},
   "outputs": [
    {
     "data": {
      "image/png": "[encoded data removed]",
      "text/plain": [
       "<matplotlib.figure.Figure at 0x112a555d0>"
      ]
     },
     "metadata": {},
     "output_type": "display_data"
    },
    {
     "data": {
      "image/png": "[encoded data removed]",
      "text/plain": [
       "<matplotlib.figure.Figure at 0x112460ed0>"
      ]
     },
     "metadata": {},
     "output_type": "display_data"
    }
   ],
   "source": [
    "ll_17_garm_pal = get_garment_palette(ll_17_full_palette, ll_17_bg_palette, ll_17_skin_palette)\n",
    "make_palette_uniform_width(ll_17_full_palette, \"LemLem 17 Full Palette\")\n",
    "make_palette_uniform_width(ll_17_garm_pal, \"LemLem 17 Garment Palette\")"
   ]
  },
  {
   "cell_type": "code",
   "execution_count": 37,
   "metadata": {},
   "outputs": [
    {
     "data": {
      "image/png": "[encoded data removed]",
      "text/plain": [
       "<matplotlib.figure.Figure at 0x112a6cf10>"
      ]
     },
     "metadata": {},
     "output_type": "display_data"
    },
    {
     "data": {
      "image/png": "[encoded data removed]",
      "text/plain": [
       "<matplotlib.figure.Figure at 0x11aae4fd0>"
      ]
     },
     "metadata": {},
     "output_type": "display_data"
    }
   ],
   "source": [
    "ll_18_garm_pal = get_garment_palette(ll_18_full_palette, ll_18_bg_palette, ll_18_skin_palette)\n",
    "make_palette_uniform_width(ll_18_full_palette, \"LemLem 18 Full Palette\")\n",
    "make_palette_uniform_width(ll_18_garm_pal, \"LemLem 18 Garment Palette\")"
   ]
  },
  {
   "cell_type": "code",
   "execution_count": null,
   "metadata": {
    "collapsed": true
   },
   "outputs": [],
   "source": []
  }
 ],
 "metadata": {
  "kernelspec": {
   "display_name": "Python 3",
   "language": "python",
   "name": "python3"
  },
  "language_info": {
   "codemirror_mode": {
    "name": "ipython",
    "version": 3
   },
   "file_extension": ".py",
   "mimetype": "text/x-python",
   "name": "python",
   "nbconvert_exporter": "python",
   "pygments_lexer": "ipython3",
   "version": "3.7.1"
  }
 },
 "nbformat": 4,
 "nbformat_minor": 2
}
